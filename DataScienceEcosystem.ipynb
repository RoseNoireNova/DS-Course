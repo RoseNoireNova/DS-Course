{
  "cells": [
    {
      "cell_type": "markdown",
      "metadata": {
        "id": "uprnbcdmkPSo"
      },
      "source": [
        "<center>\n",
        "    <img src=\"https://cf-courses-data.s3.us.cloud-object-storage.appdomain.cloud/IBMDeveloperSkillsNetwork-DS0105EN-SkillsNetwork/labs/Module2/images/SN_web_lightmode.png\" width=\"300\" alt=\"cognitiveclass.ai logo\">\n",
        "</center>\n"
      ]
    },
    {
      "cell_type": "markdown",
      "metadata": {
        "id": "px5GtbgzkPSq"
      },
      "source": [
        "#Data Science Tools and Ecosystem\n"
      ]
    },
    {
      "cell_type": "markdown",
      "source": [
        "In this notebook, Data Science Tools and Ecosystem are summarized."
      ],
      "metadata": {
        "id": "A_QHvFf6llcY"
      }
    },
    {
      "cell_type": "markdown",
      "source": [
        "Some of the popular languages that Data Scientists use are:\n",
        "\n",
        "1.   Python\n",
        "2.   R\n",
        "3.   Julia\n"
      ],
      "metadata": {
        "id": "iQ3YBzltltlf"
      }
    },
    {
      "cell_type": "markdown",
      "source": [
        "Some of the commonly used libraries used by Data Scientist include:\n",
        "\n",
        "\n",
        "\n",
        "1.   NumPY\n",
        "2.   caret\n",
        "3.   TensorFlow\n",
        "4.   Seaborn\n",
        "\n"
      ],
      "metadata": {
        "id": "Ls_gOys3mrKH"
      }
    },
    {
      "cell_type": "markdown",
      "source": [
        "| Data Science Tools         |\n",
        "| -------------------------- |\n",
        "| Jupyter Notebooks          |\n",
        "| RStudio                    |\n",
        "| VS Code with Python        |\n",
        "\n"
      ],
      "metadata": {
        "id": "40caXTFjncJP"
      }
    },
    {
      "cell_type": "markdown",
      "source": [
        "### Below are a few examples of evaluating arithmetic expressions in Python\n",
        "\n",
        "1. **Addition:**\n",
        "   ```python\n",
        "   result = 5 + 3\n",
        "   print(result)  # Output: 8\n",
        "\n",
        "\n",
        "2. **Subtraction:**\n",
        "   ```python\n",
        "   result = 10 - 4\n",
        "   print(result)  # Output: 6\n",
        "\n",
        "\n",
        "\n"
      ],
      "metadata": {
        "id": "MkG8lw94oB6H"
      }
    },
    {
      "cell_type": "code",
      "source": [
        "# This is a simple arithmetic expression to multiply then add integers.\n",
        "result = (3 * 4) + 5\n",
        "result\n"
      ],
      "metadata": {
        "colab": {
          "base_uri": "https://localhost:8080/"
        },
        "id": "tCeFfNX1o_Z_",
        "outputId": "508f57e4-2485-4c50-c652-9ba5a0f5f849"
      },
      "execution_count": 1,
      "outputs": [
        {
          "output_type": "execute_result",
          "data": {
            "text/plain": [
              "17"
            ]
          },
          "metadata": {},
          "execution_count": 1
        }
      ]
    },
    {
      "cell_type": "code",
      "source": [
        "# This will convert 200 minutes to hours by dividing by 60.\n",
        "minutes = 200\n",
        "hours = minutes / 60\n",
        "hours\n"
      ],
      "metadata": {
        "colab": {
          "base_uri": "https://localhost:8080/"
        },
        "id": "bjsHihgMpFbB",
        "outputId": "ec61410c-c4a1-4186-b510-01db883310ff"
      },
      "execution_count": 2,
      "outputs": [
        {
          "output_type": "execute_result",
          "data": {
            "text/plain": [
              "3.3333333333333335"
            ]
          },
          "metadata": {},
          "execution_count": 2
        }
      ]
    },
    {
      "cell_type": "markdown",
      "source": [
        "**Objectives:**\n",
        "\n",
        "- Understand popular languages used in Data Science.\n",
        "- Explore commonly used libraries in Python, Julia, and R for Data Science.\n",
        "- Learn how to create tables in Markdown.\n",
        "- Gain insights into formatting and styling text in Markdown.\n",
        "- Practice coding expressions for arithmetic operations in Python.\n"
      ],
      "metadata": {
        "id": "l9Crn3yApYo3"
      }
    },
    {
      "cell_type": "markdown",
      "source": [
        "## Author\n",
        "\n",
        "Miguel Ferro\n"
      ],
      "metadata": {
        "id": "qCKDJfq1pmn3"
      }
    }
  ],
  "metadata": {
    "kernelspec": {
      "display_name": "Python",
      "language": "python",
      "name": "conda-env-python-py"
    },
    "language_info": {
      "name": ""
    },
    "colab": {
      "provenance": []
    }
  },
  "nbformat": 4,
  "nbformat_minor": 0
}